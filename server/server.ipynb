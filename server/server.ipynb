{
  "cells": [
    {
      "cell_type": "code",
      "execution_count": null,
      "metadata": {
        "id": "t-dhbPxj2jyE"
      },
      "outputs": [],
      "source": [
        "import torch\n",
        "from torch.autograd import Variable\n",
        "import numpy as np\n",
        "import matplotlib.pyplot as plt\n",
        "import torchvision.models as models\n",
        "import torchvision.transforms as transforms\n",
        "import torch.nn as nn\n",
        "from torch.utils.data import DataLoader\n",
        "from torch.utils.data.dataset import Dataset\n",
        "from torchvision import datasets\n",
        "import os\n",
        "import pandas as pd\n",
        "from torchvision.io import read_image\n",
        "import tarfile\n",
        "from PIL import Image\n",
        "import pickle\n",
        "import cv2\n",
        "import scipy\n",
        "from tqdm import tqdm\n",
        "from scipy import spatial"
      ]
    },
    {
      "cell_type": "code",
      "execution_count": null,
      "metadata": {
        "id": "u7awPRto2lTf"
      },
      "outputs": [],
      "source": [
        "def get_file_list(file_path = \"./image_data/\"):\n",
        "    import random\n",
        "    file_list = []\n",
        "    assert os.path.isdir(file_path)\n",
        "    for file in os.listdir(file_path):\n",
        "        file_list.append(file_path+file)\n",
        "    return file_list"
      ]
    },
    {
      "cell_type": "code",
      "execution_count": null,
      "metadata": {
        "id": "KjjzXMKx2mw2"
      },
      "outputs": [],
      "source": [
        "class Collection(Dataset):\n",
        "    def __init__(self, image_path, transform=None):\n",
        "        super().__init__()\n",
        "        self.image_path = image_path\n",
        "        self.transform = transform\n",
        "    def __getitem__(self, index):\n",
        "        image_path = self.image_path[index]\n",
        "        image = Image.open(image_path).convert('RGB')\n",
        "        if self.transform is not None:\n",
        "            image = self.transform(image)\n",
        "        return image, image_path\n",
        "    def __len__(self):\n",
        "        return len(self.image_path)"
      ]
    },
    {
      "cell_type": "code",
      "execution_count": null,
      "metadata": {
        "id": "-X8WSD_42oDu"
      },
      "outputs": [],
      "source": [
        "def load_data(data_path, batch_size = 4, shuffle=False, transform='default'):\n",
        "    default_transform = transforms.Compose([\n",
        "        transforms.Resize(256),\n",
        "        transforms.CenterCrop(224),\n",
        "        transforms.ToTensor(),\n",
        "        transforms.Normalize((0.5, 0.5, 0.5), (0.225, 0.225, 0.225))\n",
        "    ]) if transform == 'default' else transform\n",
        "\n",
        "    image_path_list = get_file_list(file_path=data_path)\n",
        "    \n",
        "    collection = Collection(image_path=image_path_list, transform = default_transform)\n",
        "\n",
        "    dataloader = DataLoader(dataset=collection, batch_size=batch_size, shuffle=shuffle, num_workers=0)\n",
        "    return dataloader"
      ]
    },
    {
      "cell_type": "code",
      "execution_count": null,
      "metadata": {
        "id": "3XL3Qaw12pWn"
      },
      "outputs": [],
      "source": [
        "def feature_extract(model, dataloader):\n",
        "    features = torch.FloatTensor()\n",
        "    path_list = []\n",
        "    for img, path in dataloader:\n",
        "        img = img.cuda()\n",
        "        input = Variable(img)\n",
        "        output = model(input)\n",
        "        feature = output.data.cpu()\n",
        "        feature_norm = torch.norm(feature, p=2, dim=1, keepdim=True)\n",
        "        feature = feature.div(feature_norm.expand_as(feature))\n",
        "        features = torch.cat((features, feature), 0)\n",
        "        path_list += list(path)\n",
        "    return features, path_list"
      ]
    },
    {
      "cell_type": "code",
      "execution_count": null,
      "metadata": {
        "id": "VsT_Jg9L2qqn"
      },
      "outputs": [],
      "source": [
        "def create_query_folder(path = \"/content/drive/MyDrive/cs336/image_annotation\"):\n",
        "    query_list = []\n",
        "    file_name = []\n",
        "    for query in os.listdir(path):\n",
        "        if query.split('.')[0].split('_')[-1] == \"query\":\n",
        "            file_name.append(query.split('.')[0] + '.jpg')\n",
        "            file = open(path+query, 'r')\n",
        "            content = file.readline().split()\n",
        "            crop_img, x, y, w, h = content\n",
        "            file.close()\n",
        "            crop_img = crop_img.split('_')[1::]\n",
        "            crop_img = '_'.join(crop_img)\n",
        "            query_list.append((crop_img + '.jpg', x, y, w, h))\n",
        "    query_dir = \"./image_data/\"\n",
        "    query_des = \"./image_query/\"\n",
        "    for item in range(len(query_list)):\n",
        "        img = cv2.imread(query_dir+query_list[item][0])\n",
        "        x, y, w, h = float(query_list[item][1]), float(query_list[item][2]), float(query_list[item][3]), float(query_list[item][4])\n",
        "        img = img[int(x):int(x+w), int(y):int(y+h)]\n",
        "        cv2.imwrite(query_des+file_name[item], img)"
      ]
    },
    {
      "cell_type": "code",
      "execution_count": null,
      "metadata": {
        "id": "Rsl1VQSE2s1n"
      },
      "outputs": [],
      "source": [
        "def load_model_vgg():\n",
        "    model = models.vgg16(pretrained=True)\n",
        "    model.classifier = model.classifier[:-1]\n",
        "    model = model.eval()\n",
        "    model = model.cuda()\n",
        "    return model"
      ]
    },
    {
      "cell_type": "code",
      "execution_count": null,
      "metadata": {
        "id": "nSmXiz1u2t5f"
      },
      "outputs": [],
      "source": [
        "def load_model_resnet():\n",
        "    model = models.resnet101(pretrained=True)\n",
        "    modules = list(model.children())[:-1]\n",
        "    model = nn.Sequential(*modules)\n",
        "    model = model.cuda()\n",
        "    model = model.eval()\n",
        "    return model"
      ]
    },
    {
      "cell_type": "code",
      "execution_count": null,
      "metadata": {
        "id": "UTsX-2Lj2vOn"
      },
      "outputs": [],
      "source": [
        "def compute_score(query_feature, collection_feature):\n",
        "    score = [spatial.distance.cosine(query_feature, feature) for feature in collection_feature]\n",
        "    idx = np.argsort(score, axis=0)\n",
        "    score = sorted(score)\n",
        "    return score, idx"
      ]
    },
    {
      "cell_type": "code",
      "source": [
        "model2 = load_model_resnet()"
      ],
      "metadata": {
        "id": "Z0o7_I0a408I",
        "colab": {
          "base_uri": "https://localhost:8080/",
          "height": 156,
          "referenced_widgets": [
            "9c9535fd9fdb450bbb37981667661ee1",
            "eb42ec057a2d446796c79c8fbb6ef799",
            "496fb0d892e04b75b95b6ea88cb139a7",
            "145e72e0163e4370b479bf5b90c07ff6",
            "0525cd5575704ebcb24dacd3f4ed4a75",
            "5a571f61ac4841e4805697e676363ae9",
            "2962b6761b2342b5b8b7df3cc3268da6",
            "d0691904bc3746fdadfdd62dfb64544b",
            "e402e3b707414883991c096a48048f50",
            "df9ef8439d914ce0b7090da800672039",
            "4f110ad8853644b18cdd32475ef119d0"
          ]
        },
        "outputId": "03826434-ae7e-4158-87da-669e24d29855"
      },
      "execution_count": null,
      "outputs": [
        {
          "output_type": "stream",
          "name": "stderr",
          "text": [
            "/usr/local/lib/python3.8/dist-packages/torchvision/models/_utils.py:208: UserWarning: The parameter 'pretrained' is deprecated since 0.13 and may be removed in the future, please use 'weights' instead.\n",
            "  warnings.warn(\n",
            "/usr/local/lib/python3.8/dist-packages/torchvision/models/_utils.py:223: UserWarning: Arguments other than a weight enum or `None` for 'weights' are deprecated since 0.13 and may be removed in the future. The current behavior is equivalent to passing `weights=ResNet101_Weights.IMAGENET1K_V1`. You can also use `weights=ResNet101_Weights.DEFAULT` to get the most up-to-date weights.\n",
            "  warnings.warn(msg)\n",
            "Downloading: \"https://download.pytorch.org/models/resnet101-63fe2227.pth\" to /root/.cache/torch/hub/checkpoints/resnet101-63fe2227.pth\n"
          ]
        },
        {
          "output_type": "display_data",
          "data": {
            "text/plain": [
              "  0%|          | 0.00/171M [00:00<?, ?B/s]"
            ],
            "application/vnd.jupyter.widget-view+json": {
              "version_major": 2,
              "version_minor": 0,
              "model_id": "9c9535fd9fdb450bbb37981667661ee1"
            }
          },
          "metadata": {}
        }
      ]
    },
    {
      "cell_type": "code",
      "execution_count": null,
      "metadata": {
        "id": "0b-dJOwh2wwo",
        "colab": {
          "base_uri": "https://localhost:8080/",
          "height": 121,
          "referenced_widgets": [
            "67451d4e318c4937a524b2a36657f9a3",
            "69551e4731b3419890cd769bf3eab239",
            "1a2177542a26410ca1f59fc9d3163968",
            "a50678eae7724a45ae32d4d5e3e0b3c8",
            "87d28cb9dc7842f29300644fd3895d40",
            "0a52d333599e48029fbe3f676972f505",
            "f593835bcb384912a9e7083cdd2e6efc",
            "327ed13da47941e892d1fc7228a7f2db",
            "e8fbffdbed3b43ef8b395f9b34cce917",
            "47eeb36efd384a2d8236c2e3cb3b2025",
            "fe3a7b791d71451d9778c059bd8a39cc"
          ]
        },
        "outputId": "9558cda9-df55-4b88-eaff-46f766df71d7"
      },
      "outputs": [
        {
          "output_type": "stream",
          "name": "stderr",
          "text": [
            "/usr/local/lib/python3.8/dist-packages/torchvision/models/_utils.py:223: UserWarning: Arguments other than a weight enum or `None` for 'weights' are deprecated since 0.13 and may be removed in the future. The current behavior is equivalent to passing `weights=VGG16_Weights.IMAGENET1K_V1`. You can also use `weights=VGG16_Weights.DEFAULT` to get the most up-to-date weights.\n",
            "  warnings.warn(msg)\n",
            "Downloading: \"https://download.pytorch.org/models/vgg16-397923af.pth\" to /root/.cache/torch/hub/checkpoints/vgg16-397923af.pth\n"
          ]
        },
        {
          "output_type": "display_data",
          "data": {
            "text/plain": [
              "  0%|          | 0.00/528M [00:00<?, ?B/s]"
            ],
            "application/vnd.jupyter.widget-view+json": {
              "version_major": 2,
              "version_minor": 0,
              "model_id": "67451d4e318c4937a524b2a36657f9a3"
            }
          },
          "metadata": {}
        }
      ],
      "source": [
        "model = load_model_vgg()"
      ]
    },
    {
      "cell_type": "code",
      "execution_count": null,
      "metadata": {
        "id": "5tx5RFDL2xuA"
      },
      "outputs": [],
      "source": [
        "#ataloader = load_data(\"/content/drive/MyDrive/cs336/data/\", batch_size=8, shuffle=False, transform='default')"
      ]
    },
    {
      "cell_type": "code",
      "execution_count": null,
      "metadata": {
        "id": "gsKJEMm42yr5"
      },
      "outputs": [],
      "source": [
        "#collection, image_paths = feature_extract(model=model, dataloader=dataloader)"
      ]
    },
    {
      "cell_type": "code",
      "execution_count": null,
      "metadata": {
        "id": "0OqmBR4m2zuJ"
      },
      "outputs": [],
      "source": [
        "#q_dataloader = load_data(\"/content/drive/MyDrive/cs336/image_query/\", batch_size=1, shuffle=False, transform='default')\n",
        "#query_feature, q_path = feature_extract(model=model, dataloader=q_dataloader)"
      ]
    },
    {
      "cell_type": "code",
      "source": [
        "#os.listdir('/content/drive/MyDrive/cs336/image_annotation/')"
      ],
      "metadata": {
        "id": "eg2v6ptYhSoI"
      },
      "execution_count": null,
      "outputs": []
    },
    {
      "cell_type": "code",
      "source": [
        "#q_path"
      ],
      "metadata": {
        "id": "-Hy9q_fDhKNg"
      },
      "execution_count": null,
      "outputs": []
    },
    {
      "cell_type": "code",
      "execution_count": null,
      "metadata": {
        "colab": {
          "base_uri": "https://localhost:8080/",
          "height": 53
        },
        "id": "g61Iar9721Ip",
        "outputId": "1149aed2-b673-4457-89e0-ddcc977b9526"
      },
      "outputs": [
        {
          "output_type": "execute_result",
          "data": {
            "text/plain": [
              "'dir = [\"./collection_features.pkl\", \"./collection_paths.txt\", \"./query_features.pkl\", \"./query_paths.txt\"]\\ncontent = [collection, image_paths, query_feature, q_path]\\nfor i in range(len(dir)):\\n    file = open(dir[i], \"wb\")\\n    pickle.dump(content[i], file)\\n    file.close()'"
            ],
            "application/vnd.google.colaboratory.intrinsic+json": {
              "type": "string"
            }
          },
          "metadata": {},
          "execution_count": 17
        }
      ],
      "source": [
        "'''dir = [\"./collection_features.pkl\", \"./collection_paths.txt\", \"./query_features.pkl\", \"./query_paths.txt\"]\n",
        "content = [collection, image_paths, query_feature, q_path]\n",
        "for i in range(len(dir)):\n",
        "    file = open(dir[i], \"wb\")\n",
        "    pickle.dump(content[i], file)\n",
        "    file.close()'''"
      ]
    },
    {
      "cell_type": "code",
      "execution_count": null,
      "metadata": {
        "id": "nNc5yTUJ22Rw"
      },
      "outputs": [],
      "source": [
        "\n",
        "#collection = pickle.load(open(\"/content/drive/MyDrive/cs336/features/data/collection_features.pkl\", \"rb\"))\n",
        "#image_paths = pickle.load(open(\"/content/drive/MyDrive/cs336/features/data/collection_paths.txt\", \"rb\"))\n",
        "#query_feature = pickle.load(open(\"/content/query_features.pkl\", \"rb\"))\n",
        "#q_path = pickle.load(open(\"/content/query_paths.txt\", \"rb\")"
      ]
    },
    {
      "cell_type": "code",
      "execution_count": null,
      "metadata": {
        "id": "t7AWYjZo5oh9"
      },
      "outputs": [],
      "source": [
        "def load_query(img_path, batch_size = 1, shuffle=False, transform='default'):\n",
        "    default_transform = transforms.Compose([\n",
        "        transforms.Resize(256),\n",
        "        transforms.CenterCrop(224),\n",
        "        transforms.ToTensor(),\n",
        "        transforms.Normalize((0.5, 0.5, 0.5), (0.225, 0.225, 0.225))\n",
        "    ]) if transform == 'default' else transform\n",
        "    \n",
        "    collection = Collection(image_path=[img_path], transform = default_transform)\n",
        "\n",
        "    dataloader = DataLoader(dataset=collection, batch_size=batch_size, shuffle=shuffle, num_workers=0)\n",
        "    return dataloader\n"
      ]
    },
    {
      "cell_type": "code",
      "execution_count": null,
      "metadata": {
        "id": "sI8RZbF6eRSL"
      },
      "outputs": [],
      "source": [
        "def retrieval(img_path):\n",
        "    collection_feature = None\n",
        "    collection_path = None\n",
        "    \n",
        "    #m = load_model_vgg()\n",
        "    m= model\n",
        "    dataloader =load_query(img_path)\n",
        "    query_feature, query_path = feature_extract(m, dataloader)\n",
        " \n",
        "    with open('/content/drive/MyDrive/cs336/features/data/collection_features.pkl', 'rb') as pickle_file:\n",
        "        collection_feature = pickle.load(pickle_file)\n",
        "    \n",
        "    with open('/content/drive/MyDrive/cs336/features/data/collection_paths.txt', 'rb') as pickle_file:\n",
        "        collection_path = pickle.load(pickle_file)\n",
        "    # collection_feature, collection_path = pickle.load('vgg16_extractor_result/collection_features.pkl'), pickle.load('vgg16_extractor_result/collection_paths.txt')\n",
        "    similarity, index = compute_score(query_feature, collection_feature)\n",
        "    sorted_paths = [collection_path[i] for i in index]\n",
        "    return sorted_paths, similarity\n"
      ]
    },
    {
      "cell_type": "code",
      "source": [
        "def retrieval2(img_path):\n",
        "    collection_feature = None\n",
        "    collection_path = None\n",
        "    \n",
        "    #m = load_model_vgg()\n",
        "    m= model2\n",
        "    dataloader =load_query(img_path)\n",
        "    query_feature, query_path = feature_extract(m, dataloader)\n",
        " \n",
        "    with open('/content/drive/MyDrive/cs336/features/data/collection_features2.pkl', 'rb') as pickle_file:\n",
        "        collection_feature = pickle.load(pickle_file)\n",
        "    \n",
        "    with open('/content/drive/MyDrive/cs336/features/data/collection_paths2.txt', 'rb') as pickle_file:\n",
        "        collection_path = pickle.load(pickle_file)\n",
        "    # collection_feature, collection_path = pickle.load('vgg16_extractor_result/collection_features.pkl'), pickle.load('vgg16_extractor_result/collection_paths.txt')\n",
        "    similarity, index = compute_score(query_feature, collection_feature)\n",
        "    sorted_paths = [collection_path[i] for i in index]\n",
        "    return sorted_paths, similarity"
      ],
      "metadata": {
        "id": "fj3vyRE1aXe8"
      },
      "execution_count": null,
      "outputs": []
    },
    {
      "cell_type": "code",
      "execution_count": null,
      "metadata": {
        "id": "_0bNKkrSemaL"
      },
      "outputs": [],
      "source": [
        "#a,s = retrieval('/content/drive/MyDrive/cs336/testimg/Copy of hertford_4_query.jpg')"
      ]
    },
    {
      "cell_type": "code",
      "execution_count": null,
      "metadata": {
        "id": "I8l8phnvbn-J"
      },
      "outputs": [],
      "source": [
        "#a[0:10]"
      ]
    },
    {
      "cell_type": "code",
      "execution_count": null,
      "metadata": {
        "colab": {
          "base_uri": "https://localhost:8080/",
          "height": 53
        },
        "id": "LAaGrCo9gabr",
        "outputId": "659bcb55-1eb5-4064-ee64-e4cdc85d4e5a"
      },
      "outputs": [
        {
          "output_type": "execute_result",
          "data": {
            "text/plain": [
              "\"ig=cv2.imread('/content/drive/MyDrive/cs336/testimg/Copy of hertford_4_query.jpg')\\nig1 = cv2.imread(a[0])\\nig2 = cv2.imread(a[1])\\ncv2_imshow(ig)\\ncv2_imshow(ig1)\\ncv2_imshow(ig2)\""
            ],
            "application/vnd.google.colaboratory.intrinsic+json": {
              "type": "string"
            }
          },
          "metadata": {},
          "execution_count": 24
        }
      ],
      "source": [
        "'''ig=cv2.imread('/content/drive/MyDrive/cs336/testimg/Copy of hertford_4_query.jpg')\n",
        "ig1 = cv2.imread(a[0])\n",
        "ig2 = cv2.imread(a[1])\n",
        "cv2_imshow(ig)\n",
        "cv2_imshow(ig1)\n",
        "cv2_imshow(ig2)'''"
      ]
    },
    {
      "cell_type": "code",
      "source": [
        "#a,s = retrieval('/content/drive/MyDrive/cs336/data/all_souls_000003.jpg')"
      ],
      "metadata": {
        "id": "pcor0pSu35ha"
      },
      "execution_count": null,
      "outputs": []
    },
    {
      "cell_type": "code",
      "execution_count": null,
      "metadata": {
        "colab": {
          "base_uri": "https://localhost:8080/"
        },
        "id": "-RkbcXoRIUB4",
        "outputId": "d0506025-50b0-4722-ba39-05af2f53e4a4"
      },
      "outputs": [
        {
          "output_type": "stream",
          "name": "stdout",
          "text": [
            "Looking in indexes: https://pypi.org/simple, https://us-python.pkg.dev/colab-wheels/public/simple/\n",
            "Collecting pyngrok\n",
            "  Downloading pyngrok-5.2.1.tar.gz (761 kB)\n",
            "\u001b[2K     \u001b[90m━━━━━━━━━━━━━━━━━━━━━━━━━━━━━━━━━━━━━━\u001b[0m \u001b[32m761.3/761.3 KB\u001b[0m \u001b[31m41.5 MB/s\u001b[0m eta \u001b[36m0:00:00\u001b[0m\n",
            "\u001b[?25h  Preparing metadata (setup.py) ... \u001b[?25l\u001b[?25hdone\n",
            "Requirement already satisfied: PyYAML in /usr/local/lib/python3.8/dist-packages (from pyngrok) (6.0)\n",
            "Building wheels for collected packages: pyngrok\n",
            "  Building wheel for pyngrok (setup.py) ... \u001b[?25l\u001b[?25hdone\n",
            "  Created wheel for pyngrok: filename=pyngrok-5.2.1-py3-none-any.whl size=19792 sha256=73bd249fd1daab1526d65a82a44884c0934b3d1d770c708bd0eb1edf8b9e1977\n",
            "  Stored in directory: /root/.cache/pip/wheels/5d/f2/70/526da675d32f17577ec47ac4c663084efe39d47c826b6c3bb1\n",
            "Successfully built pyngrok\n",
            "Installing collected packages: pyngrok\n",
            "Successfully installed pyngrok-5.2.1\n"
          ]
        }
      ],
      "source": [
        "!pip install pyngrok"
      ]
    },
    {
      "cell_type": "code",
      "execution_count": null,
      "metadata": {
        "colab": {
          "base_uri": "https://localhost:8080/"
        },
        "id": "LIdGL3GFIYuo",
        "outputId": "27ad1c39-6861-40ab-bd5a-4ef70943150a"
      },
      "outputs": [
        {
          "output_type": "stream",
          "name": "stdout",
          "text": [
            "Enter your authtoken, which can be copied from https://dashboard.ngrok.com/auth\n",
            " * ngrok tunnel available, access with `ssh root@2.tcp.ngrok.io -p14257`\n"
          ]
        }
      ],
      "source": [
        "import getpass\n",
        "\n",
        "from pyngrok import ngrok, conf\n",
        "\n",
        "print(\"Enter your authtoken, which can be copied from https://dashboard.ngrok.com/auth\")\n",
        "conf.get_default().auth_token = '2H7faLYvDQGs7VkU4ejNQu7i26f_76et6FX9v9PF5VBAqGJ7z'\n",
        "\n",
        "# Open a TCP ngrok tunnel to the SSH server\n",
        "connection_string = ngrok.connect(22, \"tcp\").public_url\n",
        "\n",
        "ssh_url, port = connection_string.strip(\"tcp://\").split(\":\")\n",
        "print(f\" * ngrok tunnel available, access with `ssh root@{ssh_url} -p{port}`\")"
      ]
    },
    {
      "cell_type": "code",
      "execution_count": null,
      "metadata": {
        "colab": {
          "base_uri": "https://localhost:8080/"
        },
        "id": "aQcc1SFSaU0X",
        "outputId": "70a8a490-661f-4081-f283-7deaa25504aa"
      },
      "outputs": [
        {
          "output_type": "stream",
          "name": "stdout",
          "text": [
            "Looking in indexes: https://pypi.org/simple, https://us-python.pkg.dev/colab-wheels/public/simple/\n",
            "Collecting flask-cors\n",
            "  Downloading Flask_Cors-3.0.10-py2.py3-none-any.whl (14 kB)\n",
            "Requirement already satisfied: Flask>=0.9 in /usr/local/lib/python3.8/dist-packages (from flask-cors) (1.1.4)\n",
            "Requirement already satisfied: Six in /usr/local/lib/python3.8/dist-packages (from flask-cors) (1.15.0)\n",
            "Requirement already satisfied: click<8.0,>=5.1 in /usr/local/lib/python3.8/dist-packages (from Flask>=0.9->flask-cors) (7.1.2)\n",
            "Requirement already satisfied: Jinja2<3.0,>=2.10.1 in /usr/local/lib/python3.8/dist-packages (from Flask>=0.9->flask-cors) (2.11.3)\n",
            "Requirement already satisfied: itsdangerous<2.0,>=0.24 in /usr/local/lib/python3.8/dist-packages (from Flask>=0.9->flask-cors) (1.1.0)\n",
            "Requirement already satisfied: Werkzeug<2.0,>=0.15 in /usr/local/lib/python3.8/dist-packages (from Flask>=0.9->flask-cors) (1.0.1)\n",
            "Requirement already satisfied: MarkupSafe>=0.23 in /usr/local/lib/python3.8/dist-packages (from Jinja2<3.0,>=2.10.1->Flask>=0.9->flask-cors) (2.0.1)\n",
            "Installing collected packages: flask-cors\n",
            "Successfully installed flask-cors-3.0.10\n"
          ]
        }
      ],
      "source": [
        "!pip install -U flask-cors"
      ]
    },
    {
      "cell_type": "code",
      "execution_count": null,
      "metadata": {
        "colab": {
          "base_uri": "https://localhost:8080/"
        },
        "id": "noM8sDPrIa3X",
        "outputId": "e4db36a8-0ef2-4bb0-e6be-c9e9032fa26e"
      },
      "outputs": [
        {
          "output_type": "stream",
          "name": "stdout",
          "text": [
            " * ngrok tunnel \"http://cf56-35-247-147-106.ngrok.io\" -> \"http://127.0.0.1:5000\"\n",
            " * Serving Flask app \"__main__\" (lazy loading)\n",
            " * Environment: development\n",
            " * Debug mode: on\n"
          ]
        }
      ],
      "source": [
        "import os\n",
        "import threading\n",
        "from flask import Flask, jsonify\n",
        "from flask_cors import CORS,cross_origin\n",
        "\n",
        "from flask import request\n",
        "from pyngrok import ngrok\n",
        "app = Flask(__name__)\n",
        "\n",
        "cors = CORS(app, resources={r\"/api/*\": {\"origins\": \"*\"}})\n",
        "port = 5000\n",
        "os.environ[\"FLASK_ENV\"] = \"development\"\n",
        "# Open a ngrok tunnel to the HTTP server\n",
        "public_url = ngrok.connect(port).public_url\n",
        "print(\" * ngrok tunnel \\\"{}\\\" -> \\\"http://127.0.0.1:{}\\\"\".format(public_url, port))\n",
        "\n",
        "# Update any base URLs to use the public ngrok URL\n",
        "app.config[\"BASE_URL\"] = public_url\n",
        "UPLOAD_FOLDER = 'static/uploads/'\n",
        "app.secret_key = \"secret key\"\n",
        "app.config['UPLOAD_FOLDER'] = UPLOAD_FOLDER\n",
        "app.config['MAX_CONTENT_LENGTH'] = 16 * 1024 * 1024\n",
        " \n",
        "ALLOWED_EXTENSIONS = set(['png', 'jpg', 'jpeg', 'gif'])\n",
        " \n",
        "def allowed_file(filename):\n",
        "    return '.' in filename and filename.rsplit('.', 1)[1].lower() in ALLOWED_EXTENSIONS\n",
        "\n",
        "@app.route('/todo/api/v1.0/tasks', methods=['GET'])\n",
        "@cross_origin() \n",
        "def get_tasks():\n",
        "    a,s = retrieval('/content/drive/MyDrive/cs336/data/all_souls_000003.jpg')\n",
        "    return jsonify({'tasks': a[0:10]})\n",
        "\n",
        "@app.route('/todo/api/v1.0/tasks', methods=['POST'])\n",
        "@cross_origin()\n",
        "def create_task():\n",
        "    if(request.json['m'] == 'vgg'):\n",
        "      a,s = retrieval('/content/drive/MyDrive/cs336/data/' + request.json['url'])\n",
        "      return jsonify({'tasks': a[0:10]})\n",
        "    else : \n",
        "      a,s = retrieval2('/content/drive/MyDrive/cs336/data/' + request.json['url'])\n",
        "      return jsonify({'tasks': a[0:10]})\n",
        "   # url =  request.json,\n",
        "    #a =  request.json['url']\n",
        "    #return jsonify(url), 201\n",
        "# Start the Flask server in a new thread\n",
        "threading.Thread(target=app.run, kwargs={\"use_reloader\": False}).start()"
      ]
    },
    {
      "cell_type": "code",
      "execution_count": null,
      "metadata": {
        "id": "Lc4g1L8CGy79",
        "colab": {
          "base_uri": "https://localhost:8080/"
        },
        "outputId": "f59c4d68-83e2-4e76-9014-8cd8dd72c3c8"
      },
      "outputs": [
        {
          "output_type": "stream",
          "name": "stderr",
          "text": [
            "INFO:werkzeug: * Running on http://127.0.0.1:5000/ (Press CTRL+C to quit)\n"
          ]
        }
      ],
      "source": [
        "#from google.colab import drive\n",
        "#drive.mount('/content/drive')"
      ]
    },
    {
      "cell_type": "code",
      "execution_count": null,
      "metadata": {
        "colab": {
          "base_uri": "https://localhost:8080/"
        },
        "id": "lDEUOqu-rCQ_",
        "outputId": "feda80b5-be15-4a68-effa-3488883432a3"
      },
      "outputs": [
        {
          "output_type": "stream",
          "name": "stdout",
          "text": [
            "Mounted at /content/drive\n"
          ]
        }
      ],
      "source": [
        "from google.colab import drive\n",
        "drive.mount('/content/drive')"
      ]
    }
  ],
  "metadata": {
    "accelerator": "GPU",
    "colab": {
      "provenance": []
    },
    "kernelspec": {
      "display_name": "Python 3",
      "name": "python3"
    },
    "language_info": {
      "name": "python"
    },
    "widgets": {
      "application/vnd.jupyter.widget-state+json": {
        "9c9535fd9fdb450bbb37981667661ee1": {
          "model_module": "@jupyter-widgets/controls",
          "model_name": "HBoxModel",
          "model_module_version": "1.5.0",
          "state": {
            "_dom_classes": [],
            "_model_module": "@jupyter-widgets/controls",
            "_model_module_version": "1.5.0",
            "_model_name": "HBoxModel",
            "_view_count": null,
            "_view_module": "@jupyter-widgets/controls",
            "_view_module_version": "1.5.0",
            "_view_name": "HBoxView",
            "box_style": "",
            "children": [
              "IPY_MODEL_eb42ec057a2d446796c79c8fbb6ef799",
              "IPY_MODEL_496fb0d892e04b75b95b6ea88cb139a7",
              "IPY_MODEL_145e72e0163e4370b479bf5b90c07ff6"
            ],
            "layout": "IPY_MODEL_0525cd5575704ebcb24dacd3f4ed4a75"
          }
        },
        "eb42ec057a2d446796c79c8fbb6ef799": {
          "model_module": "@jupyter-widgets/controls",
          "model_name": "HTMLModel",
          "model_module_version": "1.5.0",
          "state": {
            "_dom_classes": [],
            "_model_module": "@jupyter-widgets/controls",
            "_model_module_version": "1.5.0",
            "_model_name": "HTMLModel",
            "_view_count": null,
            "_view_module": "@jupyter-widgets/controls",
            "_view_module_version": "1.5.0",
            "_view_name": "HTMLView",
            "description": "",
            "description_tooltip": null,
            "layout": "IPY_MODEL_5a571f61ac4841e4805697e676363ae9",
            "placeholder": "​",
            "style": "IPY_MODEL_2962b6761b2342b5b8b7df3cc3268da6",
            "value": "100%"
          }
        },
        "496fb0d892e04b75b95b6ea88cb139a7": {
          "model_module": "@jupyter-widgets/controls",
          "model_name": "FloatProgressModel",
          "model_module_version": "1.5.0",
          "state": {
            "_dom_classes": [],
            "_model_module": "@jupyter-widgets/controls",
            "_model_module_version": "1.5.0",
            "_model_name": "FloatProgressModel",
            "_view_count": null,
            "_view_module": "@jupyter-widgets/controls",
            "_view_module_version": "1.5.0",
            "_view_name": "ProgressView",
            "bar_style": "success",
            "description": "",
            "description_tooltip": null,
            "layout": "IPY_MODEL_d0691904bc3746fdadfdd62dfb64544b",
            "max": 178793939,
            "min": 0,
            "orientation": "horizontal",
            "style": "IPY_MODEL_e402e3b707414883991c096a48048f50",
            "value": 178793939
          }
        },
        "145e72e0163e4370b479bf5b90c07ff6": {
          "model_module": "@jupyter-widgets/controls",
          "model_name": "HTMLModel",
          "model_module_version": "1.5.0",
          "state": {
            "_dom_classes": [],
            "_model_module": "@jupyter-widgets/controls",
            "_model_module_version": "1.5.0",
            "_model_name": "HTMLModel",
            "_view_count": null,
            "_view_module": "@jupyter-widgets/controls",
            "_view_module_version": "1.5.0",
            "_view_name": "HTMLView",
            "description": "",
            "description_tooltip": null,
            "layout": "IPY_MODEL_df9ef8439d914ce0b7090da800672039",
            "placeholder": "​",
            "style": "IPY_MODEL_4f110ad8853644b18cdd32475ef119d0",
            "value": " 171M/171M [00:00&lt;00:00, 195MB/s]"
          }
        },
        "0525cd5575704ebcb24dacd3f4ed4a75": {
          "model_module": "@jupyter-widgets/base",
          "model_name": "LayoutModel",
          "model_module_version": "1.2.0",
          "state": {
            "_model_module": "@jupyter-widgets/base",
            "_model_module_version": "1.2.0",
            "_model_name": "LayoutModel",
            "_view_count": null,
            "_view_module": "@jupyter-widgets/base",
            "_view_module_version": "1.2.0",
            "_view_name": "LayoutView",
            "align_content": null,
            "align_items": null,
            "align_self": null,
            "border": null,
            "bottom": null,
            "display": null,
            "flex": null,
            "flex_flow": null,
            "grid_area": null,
            "grid_auto_columns": null,
            "grid_auto_flow": null,
            "grid_auto_rows": null,
            "grid_column": null,
            "grid_gap": null,
            "grid_row": null,
            "grid_template_areas": null,
            "grid_template_columns": null,
            "grid_template_rows": null,
            "height": null,
            "justify_content": null,
            "justify_items": null,
            "left": null,
            "margin": null,
            "max_height": null,
            "max_width": null,
            "min_height": null,
            "min_width": null,
            "object_fit": null,
            "object_position": null,
            "order": null,
            "overflow": null,
            "overflow_x": null,
            "overflow_y": null,
            "padding": null,
            "right": null,
            "top": null,
            "visibility": null,
            "width": null
          }
        },
        "5a571f61ac4841e4805697e676363ae9": {
          "model_module": "@jupyter-widgets/base",
          "model_name": "LayoutModel",
          "model_module_version": "1.2.0",
          "state": {
            "_model_module": "@jupyter-widgets/base",
            "_model_module_version": "1.2.0",
            "_model_name": "LayoutModel",
            "_view_count": null,
            "_view_module": "@jupyter-widgets/base",
            "_view_module_version": "1.2.0",
            "_view_name": "LayoutView",
            "align_content": null,
            "align_items": null,
            "align_self": null,
            "border": null,
            "bottom": null,
            "display": null,
            "flex": null,
            "flex_flow": null,
            "grid_area": null,
            "grid_auto_columns": null,
            "grid_auto_flow": null,
            "grid_auto_rows": null,
            "grid_column": null,
            "grid_gap": null,
            "grid_row": null,
            "grid_template_areas": null,
            "grid_template_columns": null,
            "grid_template_rows": null,
            "height": null,
            "justify_content": null,
            "justify_items": null,
            "left": null,
            "margin": null,
            "max_height": null,
            "max_width": null,
            "min_height": null,
            "min_width": null,
            "object_fit": null,
            "object_position": null,
            "order": null,
            "overflow": null,
            "overflow_x": null,
            "overflow_y": null,
            "padding": null,
            "right": null,
            "top": null,
            "visibility": null,
            "width": null
          }
        },
        "2962b6761b2342b5b8b7df3cc3268da6": {
          "model_module": "@jupyter-widgets/controls",
          "model_name": "DescriptionStyleModel",
          "model_module_version": "1.5.0",
          "state": {
            "_model_module": "@jupyter-widgets/controls",
            "_model_module_version": "1.5.0",
            "_model_name": "DescriptionStyleModel",
            "_view_count": null,
            "_view_module": "@jupyter-widgets/base",
            "_view_module_version": "1.2.0",
            "_view_name": "StyleView",
            "description_width": ""
          }
        },
        "d0691904bc3746fdadfdd62dfb64544b": {
          "model_module": "@jupyter-widgets/base",
          "model_name": "LayoutModel",
          "model_module_version": "1.2.0",
          "state": {
            "_model_module": "@jupyter-widgets/base",
            "_model_module_version": "1.2.0",
            "_model_name": "LayoutModel",
            "_view_count": null,
            "_view_module": "@jupyter-widgets/base",
            "_view_module_version": "1.2.0",
            "_view_name": "LayoutView",
            "align_content": null,
            "align_items": null,
            "align_self": null,
            "border": null,
            "bottom": null,
            "display": null,
            "flex": null,
            "flex_flow": null,
            "grid_area": null,
            "grid_auto_columns": null,
            "grid_auto_flow": null,
            "grid_auto_rows": null,
            "grid_column": null,
            "grid_gap": null,
            "grid_row": null,
            "grid_template_areas": null,
            "grid_template_columns": null,
            "grid_template_rows": null,
            "height": null,
            "justify_content": null,
            "justify_items": null,
            "left": null,
            "margin": null,
            "max_height": null,
            "max_width": null,
            "min_height": null,
            "min_width": null,
            "object_fit": null,
            "object_position": null,
            "order": null,
            "overflow": null,
            "overflow_x": null,
            "overflow_y": null,
            "padding": null,
            "right": null,
            "top": null,
            "visibility": null,
            "width": null
          }
        },
        "e402e3b707414883991c096a48048f50": {
          "model_module": "@jupyter-widgets/controls",
          "model_name": "ProgressStyleModel",
          "model_module_version": "1.5.0",
          "state": {
            "_model_module": "@jupyter-widgets/controls",
            "_model_module_version": "1.5.0",
            "_model_name": "ProgressStyleModel",
            "_view_count": null,
            "_view_module": "@jupyter-widgets/base",
            "_view_module_version": "1.2.0",
            "_view_name": "StyleView",
            "bar_color": null,
            "description_width": ""
          }
        },
        "df9ef8439d914ce0b7090da800672039": {
          "model_module": "@jupyter-widgets/base",
          "model_name": "LayoutModel",
          "model_module_version": "1.2.0",
          "state": {
            "_model_module": "@jupyter-widgets/base",
            "_model_module_version": "1.2.0",
            "_model_name": "LayoutModel",
            "_view_count": null,
            "_view_module": "@jupyter-widgets/base",
            "_view_module_version": "1.2.0",
            "_view_name": "LayoutView",
            "align_content": null,
            "align_items": null,
            "align_self": null,
            "border": null,
            "bottom": null,
            "display": null,
            "flex": null,
            "flex_flow": null,
            "grid_area": null,
            "grid_auto_columns": null,
            "grid_auto_flow": null,
            "grid_auto_rows": null,
            "grid_column": null,
            "grid_gap": null,
            "grid_row": null,
            "grid_template_areas": null,
            "grid_template_columns": null,
            "grid_template_rows": null,
            "height": null,
            "justify_content": null,
            "justify_items": null,
            "left": null,
            "margin": null,
            "max_height": null,
            "max_width": null,
            "min_height": null,
            "min_width": null,
            "object_fit": null,
            "object_position": null,
            "order": null,
            "overflow": null,
            "overflow_x": null,
            "overflow_y": null,
            "padding": null,
            "right": null,
            "top": null,
            "visibility": null,
            "width": null
          }
        },
        "4f110ad8853644b18cdd32475ef119d0": {
          "model_module": "@jupyter-widgets/controls",
          "model_name": "DescriptionStyleModel",
          "model_module_version": "1.5.0",
          "state": {
            "_model_module": "@jupyter-widgets/controls",
            "_model_module_version": "1.5.0",
            "_model_name": "DescriptionStyleModel",
            "_view_count": null,
            "_view_module": "@jupyter-widgets/base",
            "_view_module_version": "1.2.0",
            "_view_name": "StyleView",
            "description_width": ""
          }
        },
        "67451d4e318c4937a524b2a36657f9a3": {
          "model_module": "@jupyter-widgets/controls",
          "model_name": "HBoxModel",
          "model_module_version": "1.5.0",
          "state": {
            "_dom_classes": [],
            "_model_module": "@jupyter-widgets/controls",
            "_model_module_version": "1.5.0",
            "_model_name": "HBoxModel",
            "_view_count": null,
            "_view_module": "@jupyter-widgets/controls",
            "_view_module_version": "1.5.0",
            "_view_name": "HBoxView",
            "box_style": "",
            "children": [
              "IPY_MODEL_69551e4731b3419890cd769bf3eab239",
              "IPY_MODEL_1a2177542a26410ca1f59fc9d3163968",
              "IPY_MODEL_a50678eae7724a45ae32d4d5e3e0b3c8"
            ],
            "layout": "IPY_MODEL_87d28cb9dc7842f29300644fd3895d40"
          }
        },
        "69551e4731b3419890cd769bf3eab239": {
          "model_module": "@jupyter-widgets/controls",
          "model_name": "HTMLModel",
          "model_module_version": "1.5.0",
          "state": {
            "_dom_classes": [],
            "_model_module": "@jupyter-widgets/controls",
            "_model_module_version": "1.5.0",
            "_model_name": "HTMLModel",
            "_view_count": null,
            "_view_module": "@jupyter-widgets/controls",
            "_view_module_version": "1.5.0",
            "_view_name": "HTMLView",
            "description": "",
            "description_tooltip": null,
            "layout": "IPY_MODEL_0a52d333599e48029fbe3f676972f505",
            "placeholder": "​",
            "style": "IPY_MODEL_f593835bcb384912a9e7083cdd2e6efc",
            "value": "100%"
          }
        },
        "1a2177542a26410ca1f59fc9d3163968": {
          "model_module": "@jupyter-widgets/controls",
          "model_name": "FloatProgressModel",
          "model_module_version": "1.5.0",
          "state": {
            "_dom_classes": [],
            "_model_module": "@jupyter-widgets/controls",
            "_model_module_version": "1.5.0",
            "_model_name": "FloatProgressModel",
            "_view_count": null,
            "_view_module": "@jupyter-widgets/controls",
            "_view_module_version": "1.5.0",
            "_view_name": "ProgressView",
            "bar_style": "success",
            "description": "",
            "description_tooltip": null,
            "layout": "IPY_MODEL_327ed13da47941e892d1fc7228a7f2db",
            "max": 553433881,
            "min": 0,
            "orientation": "horizontal",
            "style": "IPY_MODEL_e8fbffdbed3b43ef8b395f9b34cce917",
            "value": 553433881
          }
        },
        "a50678eae7724a45ae32d4d5e3e0b3c8": {
          "model_module": "@jupyter-widgets/controls",
          "model_name": "HTMLModel",
          "model_module_version": "1.5.0",
          "state": {
            "_dom_classes": [],
            "_model_module": "@jupyter-widgets/controls",
            "_model_module_version": "1.5.0",
            "_model_name": "HTMLModel",
            "_view_count": null,
            "_view_module": "@jupyter-widgets/controls",
            "_view_module_version": "1.5.0",
            "_view_name": "HTMLView",
            "description": "",
            "description_tooltip": null,
            "layout": "IPY_MODEL_47eeb36efd384a2d8236c2e3cb3b2025",
            "placeholder": "​",
            "style": "IPY_MODEL_fe3a7b791d71451d9778c059bd8a39cc",
            "value": " 528M/528M [00:04&lt;00:00, 153MB/s]"
          }
        },
        "87d28cb9dc7842f29300644fd3895d40": {
          "model_module": "@jupyter-widgets/base",
          "model_name": "LayoutModel",
          "model_module_version": "1.2.0",
          "state": {
            "_model_module": "@jupyter-widgets/base",
            "_model_module_version": "1.2.0",
            "_model_name": "LayoutModel",
            "_view_count": null,
            "_view_module": "@jupyter-widgets/base",
            "_view_module_version": "1.2.0",
            "_view_name": "LayoutView",
            "align_content": null,
            "align_items": null,
            "align_self": null,
            "border": null,
            "bottom": null,
            "display": null,
            "flex": null,
            "flex_flow": null,
            "grid_area": null,
            "grid_auto_columns": null,
            "grid_auto_flow": null,
            "grid_auto_rows": null,
            "grid_column": null,
            "grid_gap": null,
            "grid_row": null,
            "grid_template_areas": null,
            "grid_template_columns": null,
            "grid_template_rows": null,
            "height": null,
            "justify_content": null,
            "justify_items": null,
            "left": null,
            "margin": null,
            "max_height": null,
            "max_width": null,
            "min_height": null,
            "min_width": null,
            "object_fit": null,
            "object_position": null,
            "order": null,
            "overflow": null,
            "overflow_x": null,
            "overflow_y": null,
            "padding": null,
            "right": null,
            "top": null,
            "visibility": null,
            "width": null
          }
        },
        "0a52d333599e48029fbe3f676972f505": {
          "model_module": "@jupyter-widgets/base",
          "model_name": "LayoutModel",
          "model_module_version": "1.2.0",
          "state": {
            "_model_module": "@jupyter-widgets/base",
            "_model_module_version": "1.2.0",
            "_model_name": "LayoutModel",
            "_view_count": null,
            "_view_module": "@jupyter-widgets/base",
            "_view_module_version": "1.2.0",
            "_view_name": "LayoutView",
            "align_content": null,
            "align_items": null,
            "align_self": null,
            "border": null,
            "bottom": null,
            "display": null,
            "flex": null,
            "flex_flow": null,
            "grid_area": null,
            "grid_auto_columns": null,
            "grid_auto_flow": null,
            "grid_auto_rows": null,
            "grid_column": null,
            "grid_gap": null,
            "grid_row": null,
            "grid_template_areas": null,
            "grid_template_columns": null,
            "grid_template_rows": null,
            "height": null,
            "justify_content": null,
            "justify_items": null,
            "left": null,
            "margin": null,
            "max_height": null,
            "max_width": null,
            "min_height": null,
            "min_width": null,
            "object_fit": null,
            "object_position": null,
            "order": null,
            "overflow": null,
            "overflow_x": null,
            "overflow_y": null,
            "padding": null,
            "right": null,
            "top": null,
            "visibility": null,
            "width": null
          }
        },
        "f593835bcb384912a9e7083cdd2e6efc": {
          "model_module": "@jupyter-widgets/controls",
          "model_name": "DescriptionStyleModel",
          "model_module_version": "1.5.0",
          "state": {
            "_model_module": "@jupyter-widgets/controls",
            "_model_module_version": "1.5.0",
            "_model_name": "DescriptionStyleModel",
            "_view_count": null,
            "_view_module": "@jupyter-widgets/base",
            "_view_module_version": "1.2.0",
            "_view_name": "StyleView",
            "description_width": ""
          }
        },
        "327ed13da47941e892d1fc7228a7f2db": {
          "model_module": "@jupyter-widgets/base",
          "model_name": "LayoutModel",
          "model_module_version": "1.2.0",
          "state": {
            "_model_module": "@jupyter-widgets/base",
            "_model_module_version": "1.2.0",
            "_model_name": "LayoutModel",
            "_view_count": null,
            "_view_module": "@jupyter-widgets/base",
            "_view_module_version": "1.2.0",
            "_view_name": "LayoutView",
            "align_content": null,
            "align_items": null,
            "align_self": null,
            "border": null,
            "bottom": null,
            "display": null,
            "flex": null,
            "flex_flow": null,
            "grid_area": null,
            "grid_auto_columns": null,
            "grid_auto_flow": null,
            "grid_auto_rows": null,
            "grid_column": null,
            "grid_gap": null,
            "grid_row": null,
            "grid_template_areas": null,
            "grid_template_columns": null,
            "grid_template_rows": null,
            "height": null,
            "justify_content": null,
            "justify_items": null,
            "left": null,
            "margin": null,
            "max_height": null,
            "max_width": null,
            "min_height": null,
            "min_width": null,
            "object_fit": null,
            "object_position": null,
            "order": null,
            "overflow": null,
            "overflow_x": null,
            "overflow_y": null,
            "padding": null,
            "right": null,
            "top": null,
            "visibility": null,
            "width": null
          }
        },
        "e8fbffdbed3b43ef8b395f9b34cce917": {
          "model_module": "@jupyter-widgets/controls",
          "model_name": "ProgressStyleModel",
          "model_module_version": "1.5.0",
          "state": {
            "_model_module": "@jupyter-widgets/controls",
            "_model_module_version": "1.5.0",
            "_model_name": "ProgressStyleModel",
            "_view_count": null,
            "_view_module": "@jupyter-widgets/base",
            "_view_module_version": "1.2.0",
            "_view_name": "StyleView",
            "bar_color": null,
            "description_width": ""
          }
        },
        "47eeb36efd384a2d8236c2e3cb3b2025": {
          "model_module": "@jupyter-widgets/base",
          "model_name": "LayoutModel",
          "model_module_version": "1.2.0",
          "state": {
            "_model_module": "@jupyter-widgets/base",
            "_model_module_version": "1.2.0",
            "_model_name": "LayoutModel",
            "_view_count": null,
            "_view_module": "@jupyter-widgets/base",
            "_view_module_version": "1.2.0",
            "_view_name": "LayoutView",
            "align_content": null,
            "align_items": null,
            "align_self": null,
            "border": null,
            "bottom": null,
            "display": null,
            "flex": null,
            "flex_flow": null,
            "grid_area": null,
            "grid_auto_columns": null,
            "grid_auto_flow": null,
            "grid_auto_rows": null,
            "grid_column": null,
            "grid_gap": null,
            "grid_row": null,
            "grid_template_areas": null,
            "grid_template_columns": null,
            "grid_template_rows": null,
            "height": null,
            "justify_content": null,
            "justify_items": null,
            "left": null,
            "margin": null,
            "max_height": null,
            "max_width": null,
            "min_height": null,
            "min_width": null,
            "object_fit": null,
            "object_position": null,
            "order": null,
            "overflow": null,
            "overflow_x": null,
            "overflow_y": null,
            "padding": null,
            "right": null,
            "top": null,
            "visibility": null,
            "width": null
          }
        },
        "fe3a7b791d71451d9778c059bd8a39cc": {
          "model_module": "@jupyter-widgets/controls",
          "model_name": "DescriptionStyleModel",
          "model_module_version": "1.5.0",
          "state": {
            "_model_module": "@jupyter-widgets/controls",
            "_model_module_version": "1.5.0",
            "_model_name": "DescriptionStyleModel",
            "_view_count": null,
            "_view_module": "@jupyter-widgets/base",
            "_view_module_version": "1.2.0",
            "_view_name": "StyleView",
            "description_width": ""
          }
        }
      }
    }
  },
  "nbformat": 4,
  "nbformat_minor": 0
}